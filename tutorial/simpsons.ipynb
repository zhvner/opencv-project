{
 "cells": [
  {
   "cell_type": "code",
   "execution_count": 1,
   "id": "2ced3c5a",
   "metadata": {
    "_cell_guid": "b1076dfc-b9ad-4769-8c92-a6c4dae69d19",
    "_uuid": "8f2839f25d086af736a60e9eeb907d3b93b6e0e5",
    "execution": {
     "iopub.execute_input": "2023-11-09T02:25:18.119110Z",
     "iopub.status.busy": "2023-11-09T02:25:18.118222Z",
     "iopub.status.idle": "2023-11-09T02:25:45.452952Z",
     "shell.execute_reply": "2023-11-09T02:25:45.451952Z"
    },
    "papermill": {
     "duration": 27.344243,
     "end_time": "2023-11-09T02:25:45.455369",
     "exception": false,
     "start_time": "2023-11-09T02:25:18.111126",
     "status": "completed"
    },
    "tags": []
   },
   "outputs": [
    {
     "name": "stdout",
     "output_type": "stream",
     "text": [
      "Collecting caer\r\n",
      "  Downloading caer-2.0.8-py3-none-any.whl (809 kB)\r\n",
      "\u001b[2K     \u001b[90m━━━━━━━━━━━━━━━━━━━━━━━━━━━━━━━━━━━━━━\u001b[0m \u001b[32m809.5/809.5 kB\u001b[0m \u001b[31m10.8 MB/s\u001b[0m eta \u001b[36m0:00:00\u001b[0m\r\n",
      "\u001b[?25hCollecting canaro\r\n",
      "  Downloading canaro-1.1.0-py3-none-any.whl (19 kB)\r\n",
      "Collecting mypy (from caer)\r\n",
      "  Downloading mypy-1.6.1-cp310-cp310-manylinux_2_17_x86_64.manylinux2014_x86_64.whl (12.2 MB)\r\n",
      "\u001b[2K     \u001b[90m━━━━━━━━━━━━━━━━━━━━━━━━━━━━━━━━━━━━━━━━\u001b[0m \u001b[32m12.2/12.2 MB\u001b[0m \u001b[31m76.5 MB/s\u001b[0m eta \u001b[36m0:00:00\u001b[0m\r\n",
      "\u001b[?25hRequirement already satisfied: numpy in /opt/conda/lib/python3.10/site-packages (from caer) (1.23.5)\r\n",
      "Requirement already satisfied: opencv-contrib-python in /opt/conda/lib/python3.10/site-packages (from caer) (4.8.0.76)\r\n",
      "Requirement already satisfied: typing-extensions in /opt/conda/lib/python3.10/site-packages (from caer) (4.6.3)\r\n",
      "Requirement already satisfied: tensorflow in /opt/conda/lib/python3.10/site-packages (from canaro) (2.12.0)\r\n",
      "Requirement already satisfied: mypy-extensions>=1.0.0 in /opt/conda/lib/python3.10/site-packages (from mypy->caer) (1.0.0)\r\n",
      "Requirement already satisfied: tomli>=1.1.0 in /opt/conda/lib/python3.10/site-packages (from mypy->caer) (2.0.1)\r\n",
      "Requirement already satisfied: absl-py>=1.0.0 in /opt/conda/lib/python3.10/site-packages (from tensorflow->canaro) (1.4.0)\r\n",
      "Requirement already satisfied: astunparse>=1.6.0 in /opt/conda/lib/python3.10/site-packages (from tensorflow->canaro) (1.6.3)\r\n",
      "Requirement already satisfied: flatbuffers>=2.0 in /opt/conda/lib/python3.10/site-packages (from tensorflow->canaro) (23.5.26)\r\n",
      "Requirement already satisfied: gast<=0.4.0,>=0.2.1 in /opt/conda/lib/python3.10/site-packages (from tensorflow->canaro) (0.4.0)\r\n",
      "Requirement already satisfied: google-pasta>=0.1.1 in /opt/conda/lib/python3.10/site-packages (from tensorflow->canaro) (0.2.0)\r\n",
      "Requirement already satisfied: grpcio<2.0,>=1.24.3 in /opt/conda/lib/python3.10/site-packages (from tensorflow->canaro) (1.51.1)\r\n",
      "Requirement already satisfied: h5py>=2.9.0 in /opt/conda/lib/python3.10/site-packages (from tensorflow->canaro) (3.9.0)\r\n",
      "Requirement already satisfied: jax>=0.3.15 in /opt/conda/lib/python3.10/site-packages (from tensorflow->canaro) (0.4.13)\r\n",
      "Requirement already satisfied: keras<2.13,>=2.12.0 in /opt/conda/lib/python3.10/site-packages (from tensorflow->canaro) (2.12.0)\r\n",
      "Requirement already satisfied: libclang>=13.0.0 in /opt/conda/lib/python3.10/site-packages (from tensorflow->canaro) (16.0.0)\r\n",
      "Requirement already satisfied: opt-einsum>=2.3.2 in /opt/conda/lib/python3.10/site-packages (from tensorflow->canaro) (3.3.0)\r\n",
      "Requirement already satisfied: packaging in /opt/conda/lib/python3.10/site-packages (from tensorflow->canaro) (21.3)\r\n",
      "Requirement already satisfied: protobuf!=4.21.0,!=4.21.1,!=4.21.2,!=4.21.3,!=4.21.4,!=4.21.5,<5.0.0dev,>=3.20.3 in /opt/conda/lib/python3.10/site-packages (from tensorflow->canaro) (3.20.3)\r\n",
      "Requirement already satisfied: setuptools in /opt/conda/lib/python3.10/site-packages (from tensorflow->canaro) (68.0.0)\r\n",
      "Requirement already satisfied: six>=1.12.0 in /opt/conda/lib/python3.10/site-packages (from tensorflow->canaro) (1.16.0)\r\n",
      "Requirement already satisfied: tensorboard<2.13,>=2.12 in /opt/conda/lib/python3.10/site-packages (from tensorflow->canaro) (2.12.3)\r\n",
      "Requirement already satisfied: tensorflow-estimator<2.13,>=2.12.0 in /opt/conda/lib/python3.10/site-packages (from tensorflow->canaro) (2.12.0)\r\n",
      "Requirement already satisfied: termcolor>=1.1.0 in /opt/conda/lib/python3.10/site-packages (from tensorflow->canaro) (2.3.0)\r\n",
      "Requirement already satisfied: wrapt<1.15,>=1.11.0 in /opt/conda/lib/python3.10/site-packages (from tensorflow->canaro) (1.14.1)\r\n",
      "Requirement already satisfied: tensorflow-io-gcs-filesystem>=0.23.1 in /opt/conda/lib/python3.10/site-packages (from tensorflow->canaro) (0.32.0)\r\n",
      "Requirement already satisfied: wheel<1.0,>=0.23.0 in /opt/conda/lib/python3.10/site-packages (from astunparse>=1.6.0->tensorflow->canaro) (0.40.0)\r\n",
      "Requirement already satisfied: ml-dtypes>=0.1.0 in /opt/conda/lib/python3.10/site-packages (from jax>=0.3.15->tensorflow->canaro) (0.2.0)\r\n",
      "Requirement already satisfied: scipy>=1.7 in /opt/conda/lib/python3.10/site-packages (from jax>=0.3.15->tensorflow->canaro) (1.11.2)\r\n",
      "Requirement already satisfied: google-auth<3,>=1.6.3 in /opt/conda/lib/python3.10/site-packages (from tensorboard<2.13,>=2.12->tensorflow->canaro) (2.20.0)\r\n",
      "Requirement already satisfied: google-auth-oauthlib<1.1,>=0.5 in /opt/conda/lib/python3.10/site-packages (from tensorboard<2.13,>=2.12->tensorflow->canaro) (1.0.0)\r\n",
      "Requirement already satisfied: markdown>=2.6.8 in /opt/conda/lib/python3.10/site-packages (from tensorboard<2.13,>=2.12->tensorflow->canaro) (3.4.3)\r\n",
      "Requirement already satisfied: requests<3,>=2.21.0 in /opt/conda/lib/python3.10/site-packages (from tensorboard<2.13,>=2.12->tensorflow->canaro) (2.31.0)\r\n",
      "Requirement already satisfied: tensorboard-data-server<0.8.0,>=0.7.0 in /opt/conda/lib/python3.10/site-packages (from tensorboard<2.13,>=2.12->tensorflow->canaro) (0.7.1)\r\n",
      "Requirement already satisfied: werkzeug>=1.0.1 in /opt/conda/lib/python3.10/site-packages (from tensorboard<2.13,>=2.12->tensorflow->canaro) (2.3.7)\r\n",
      "Requirement already satisfied: pyparsing!=3.0.5,>=2.0.2 in /opt/conda/lib/python3.10/site-packages (from packaging->tensorflow->canaro) (3.0.9)\r\n",
      "Requirement already satisfied: cachetools<6.0,>=2.0.0 in /opt/conda/lib/python3.10/site-packages (from google-auth<3,>=1.6.3->tensorboard<2.13,>=2.12->tensorflow->canaro) (4.2.4)\r\n",
      "Requirement already satisfied: pyasn1-modules>=0.2.1 in /opt/conda/lib/python3.10/site-packages (from google-auth<3,>=1.6.3->tensorboard<2.13,>=2.12->tensorflow->canaro) (0.2.7)\r\n",
      "Requirement already satisfied: rsa<5,>=3.1.4 in /opt/conda/lib/python3.10/site-packages (from google-auth<3,>=1.6.3->tensorboard<2.13,>=2.12->tensorflow->canaro) (4.9)\r\n",
      "Requirement already satisfied: urllib3<2.0 in /opt/conda/lib/python3.10/site-packages (from google-auth<3,>=1.6.3->tensorboard<2.13,>=2.12->tensorflow->canaro) (1.26.15)\r\n",
      "Requirement already satisfied: requests-oauthlib>=0.7.0 in /opt/conda/lib/python3.10/site-packages (from google-auth-oauthlib<1.1,>=0.5->tensorboard<2.13,>=2.12->tensorflow->canaro) (1.3.1)\r\n",
      "Requirement already satisfied: charset-normalizer<4,>=2 in /opt/conda/lib/python3.10/site-packages (from requests<3,>=2.21.0->tensorboard<2.13,>=2.12->tensorflow->canaro) (3.1.0)\r\n",
      "Requirement already satisfied: idna<4,>=2.5 in /opt/conda/lib/python3.10/site-packages (from requests<3,>=2.21.0->tensorboard<2.13,>=2.12->tensorflow->canaro) (3.4)\r\n",
      "Requirement already satisfied: certifi>=2017.4.17 in /opt/conda/lib/python3.10/site-packages (from requests<3,>=2.21.0->tensorboard<2.13,>=2.12->tensorflow->canaro) (2023.7.22)\r\n",
      "Requirement already satisfied: MarkupSafe>=2.1.1 in /opt/conda/lib/python3.10/site-packages (from werkzeug>=1.0.1->tensorboard<2.13,>=2.12->tensorflow->canaro) (2.1.3)\r\n",
      "Requirement already satisfied: pyasn1<0.5.0,>=0.4.6 in /opt/conda/lib/python3.10/site-packages (from pyasn1-modules>=0.2.1->google-auth<3,>=1.6.3->tensorboard<2.13,>=2.12->tensorflow->canaro) (0.4.8)\r\n",
      "Requirement already satisfied: oauthlib>=3.0.0 in /opt/conda/lib/python3.10/site-packages (from requests-oauthlib>=0.7.0->google-auth-oauthlib<1.1,>=0.5->tensorboard<2.13,>=2.12->tensorflow->canaro) (3.2.2)\r\n",
      "Installing collected packages: mypy, caer, canaro\r\n",
      "Successfully installed caer-2.0.8 canaro-1.1.0 mypy-1.6.1\r\n",
      "Requirement already satisfied: numpy in /opt/conda/lib/python3.10/site-packages (1.23.5)\r\n"
     ]
    }
   ],
   "source": [
    "!pip install caer canaro\n",
    "!pip install numpy"
   ]
  },
  {
   "cell_type": "code",
   "execution_count": 2,
   "id": "2f1c743f",
   "metadata": {
    "execution": {
     "iopub.execute_input": "2023-11-09T02:25:45.471347Z",
     "iopub.status.busy": "2023-11-09T02:25:45.470553Z",
     "iopub.status.idle": "2023-11-09T02:25:54.498952Z",
     "shell.execute_reply": "2023-11-09T02:25:54.498136Z"
    },
    "papermill": {
     "duration": 9.038451,
     "end_time": "2023-11-09T02:25:54.501346",
     "exception": false,
     "start_time": "2023-11-09T02:25:45.462895",
     "status": "completed"
    },
    "tags": []
   },
   "outputs": [
    {
     "name": "stderr",
     "output_type": "stream",
     "text": [
      "/opt/conda/lib/python3.10/site-packages/scipy/__init__.py:146: UserWarning: A NumPy version >=1.16.5 and <1.23.0 is required for this version of SciPy (detected version 1.23.5\n",
      "  warnings.warn(f\"A NumPy version >={np_minversion} and <{np_maxversion}\"\n"
     ]
    }
   ],
   "source": [
    "import os \n",
    "import caer\n",
    "import canaro\n",
    "import numpy as np\n",
    "import cv2 as cv\n",
    "import gc"
   ]
  },
  {
   "cell_type": "code",
   "execution_count": 3,
   "id": "486513ad",
   "metadata": {
    "execution": {
     "iopub.execute_input": "2023-11-09T02:25:54.516100Z",
     "iopub.status.busy": "2023-11-09T02:25:54.515526Z",
     "iopub.status.idle": "2023-11-09T02:25:54.519873Z",
     "shell.execute_reply": "2023-11-09T02:25:54.519039Z"
    },
    "papermill": {
     "duration": 0.01355,
     "end_time": "2023-11-09T02:25:54.521747",
     "exception": false,
     "start_time": "2023-11-09T02:25:54.508197",
     "status": "completed"
    },
    "tags": []
   },
   "outputs": [],
   "source": [
    "IMG_SIZE = (80,80)\n",
    "channels = 1\n",
    "char_path = r'/kaggle/input/the-simpsons-characters-dataset/simpsons_dataset'"
   ]
  },
  {
   "cell_type": "code",
   "execution_count": 4,
   "id": "b25e2599",
   "metadata": {
    "execution": {
     "iopub.execute_input": "2023-11-09T02:25:54.536018Z",
     "iopub.status.busy": "2023-11-09T02:25:54.535750Z",
     "iopub.status.idle": "2023-11-09T02:26:02.756966Z",
     "shell.execute_reply": "2023-11-09T02:26:02.755688Z"
    },
    "papermill": {
     "duration": 8.231332,
     "end_time": "2023-11-09T02:26:02.759460",
     "exception": false,
     "start_time": "2023-11-09T02:25:54.528128",
     "status": "completed"
    },
    "tags": []
   },
   "outputs": [
    {
     "data": {
      "text/plain": [
       "[('homer_simpson', 2246),\n",
       " ('ned_flanders', 1454),\n",
       " ('moe_szyslak', 1452),\n",
       " ('lisa_simpson', 1354),\n",
       " ('bart_simpson', 1342),\n",
       " ('marge_simpson', 1291),\n",
       " ('krusty_the_clown', 1206),\n",
       " ('principal_skinner', 1194),\n",
       " ('charles_montgomery_burns', 1193),\n",
       " ('milhouse_van_houten', 1079),\n",
       " ('chief_wiggum', 986),\n",
       " ('abraham_grampa_simpson', 913),\n",
       " ('sideshow_bob', 877),\n",
       " ('apu_nahasapeemapetilon', 623),\n",
       " ('kent_brockman', 498),\n",
       " ('comic_book_guy', 469),\n",
       " ('edna_krabappel', 457),\n",
       " ('nelson_muntz', 358),\n",
       " ('lenny_leonard', 310),\n",
       " ('mayor_quimby', 246),\n",
       " ('waylon_smithers', 181),\n",
       " ('maggie_simpson', 128),\n",
       " ('groundskeeper_willie', 121),\n",
       " ('barney_gumble', 106),\n",
       " ('selma_bouvier', 103),\n",
       " ('carl_carlson', 98),\n",
       " ('ralph_wiggum', 89),\n",
       " ('patty_bouvier', 72),\n",
       " ('martin_prince', 71),\n",
       " ('professor_john_frink', 65),\n",
       " ('snake_jailbird', 55),\n",
       " ('cletus_spuckler', 47),\n",
       " ('rainier_wolfcastle', 45),\n",
       " ('simpsons_dataset', 42),\n",
       " ('agnes_skinner', 42),\n",
       " ('sideshow_mel', 40),\n",
       " ('otto_mann', 32),\n",
       " ('fat_tony', 27),\n",
       " ('gil', 27),\n",
       " ('miss_hoover', 17),\n",
       " ('disco_stu', 8),\n",
       " ('troy_mcclure', 8),\n",
       " ('lionel_hutz', 3)]"
      ]
     },
     "execution_count": 4,
     "metadata": {},
     "output_type": "execute_result"
    }
   ],
   "source": [
    "char_dict ={}\n",
    "for char in os.listdir(char_path):\n",
    "    char_dict[char] = len(os.listdir(os.path.join(char_path, char)))\n",
    "    \n",
    "# sort in descending order\n",
    "char_dict= caer.sort_dict(char_dict, descending=True)\n",
    "char_dict"
   ]
  },
  {
   "cell_type": "code",
   "execution_count": 5,
   "id": "8bb744e1",
   "metadata": {
    "execution": {
     "iopub.execute_input": "2023-11-09T02:26:02.779649Z",
     "iopub.status.busy": "2023-11-09T02:26:02.779167Z",
     "iopub.status.idle": "2023-11-09T02:26:02.787771Z",
     "shell.execute_reply": "2023-11-09T02:26:02.786564Z"
    },
    "papermill": {
     "duration": 0.022401,
     "end_time": "2023-11-09T02:26:02.790576",
     "exception": false,
     "start_time": "2023-11-09T02:26:02.768175",
     "status": "completed"
    },
    "tags": []
   },
   "outputs": [
    {
     "data": {
      "text/plain": [
       "['homer_simpson',\n",
       " 'ned_flanders',\n",
       " 'moe_szyslak',\n",
       " 'lisa_simpson',\n",
       " 'bart_simpson',\n",
       " 'marge_simpson',\n",
       " 'krusty_the_clown',\n",
       " 'principal_skinner',\n",
       " 'charles_montgomery_burns',\n",
       " 'milhouse_van_houten']"
      ]
     },
     "execution_count": 5,
     "metadata": {},
     "output_type": "execute_result"
    }
   ],
   "source": [
    "characters = []\n",
    "count = 0\n",
    "for element in char_dict:\n",
    "    characters.append(element[0]) # grabbing element's name. eg ('homer_simpson', 2246) we pick 'homer_simpson'\n",
    "    count+=1\n",
    "    if count >=10: \n",
    "        break \n",
    "characters"
   ]
  },
  {
   "cell_type": "code",
   "execution_count": 6,
   "id": "ea12c5f1",
   "metadata": {
    "execution": {
     "iopub.execute_input": "2023-11-09T02:26:02.812983Z",
     "iopub.status.busy": "2023-11-09T02:26:02.812201Z",
     "iopub.status.idle": "2023-11-09T02:28:33.834867Z",
     "shell.execute_reply": "2023-11-09T02:28:33.833795Z"
    },
    "papermill": {
     "duration": 151.042607,
     "end_time": "2023-11-09T02:28:33.844317",
     "exception": false,
     "start_time": "2023-11-09T02:26:02.801710",
     "status": "completed"
    },
    "tags": []
   },
   "outputs": [
    {
     "name": "stdout",
     "output_type": "stream",
     "text": [
      "[INFO] Could not find a file to load from. Generating the training data\n",
      "----------------------------------------------\n",
      "[INFO] At 1000 files\n",
      "[INFO] At 2000 files\n",
      "[INFO] 2246 files found in 3.063533067703247s\n",
      "[INFO] At 1000 files\n",
      "[INFO] 1454 files found in 0.9079265594482422s\n",
      "[INFO] At 1000 files\n",
      "[INFO] 1452 files found in 1.1032466888427734s\n",
      "[INFO] At 1000 files\n",
      "[INFO] 1354 files found in 0.6760613918304443s\n",
      "[INFO] At 1000 files\n",
      "[INFO] 1342 files found in 0.5423328876495361s\n",
      "[INFO] At 1000 files\n",
      "[INFO] 1291 files found in 0.42227935791015625s\n",
      "[INFO] At 1000 files\n",
      "[INFO] 1206 files found in 0.18922829627990723s\n",
      "[INFO] At 1000 files\n",
      "[INFO] 1194 files found in 0.1464250087738037s\n",
      "[INFO] At 1000 files\n",
      "[INFO] 1193 files found in 0.14088916778564453s\n",
      "[INFO] At 1000 files\n",
      "[INFO] 1079 files found in 0.0044095516204833984s\n",
      "----------------------------------------------\n",
      "[INFO] 13811 files preprocessed! Took 2m 31s\n"
     ]
    }
   ],
   "source": [
    "train = caer.preprocess_from_dir(char_path, characters,channels=channels, IMG_SIZE=IMG_SIZE, isShuffle = True)"
   ]
  },
  {
   "cell_type": "code",
   "execution_count": 7,
   "id": "ae43521e",
   "metadata": {
    "execution": {
     "iopub.execute_input": "2023-11-09T02:28:33.861651Z",
     "iopub.status.busy": "2023-11-09T02:28:33.861300Z",
     "iopub.status.idle": "2023-11-09T02:28:33.866898Z",
     "shell.execute_reply": "2023-11-09T02:28:33.866030Z"
    },
    "papermill": {
     "duration": 0.016476,
     "end_time": "2023-11-09T02:28:33.868857",
     "exception": false,
     "start_time": "2023-11-09T02:28:33.852381",
     "status": "completed"
    },
    "tags": []
   },
   "outputs": [
    {
     "data": {
      "text/plain": [
       "13811"
      ]
     },
     "execution_count": 7,
     "metadata": {},
     "output_type": "execute_result"
    }
   ],
   "source": [
    "len(train)"
   ]
  },
  {
   "cell_type": "code",
   "execution_count": 8,
   "id": "40297aa3",
   "metadata": {
    "execution": {
     "iopub.execute_input": "2023-11-09T02:28:33.885467Z",
     "iopub.status.busy": "2023-11-09T02:28:33.885203Z",
     "iopub.status.idle": "2023-11-09T02:28:34.989997Z",
     "shell.execute_reply": "2023-11-09T02:28:34.989029Z"
    },
    "papermill": {
     "duration": 1.115765,
     "end_time": "2023-11-09T02:28:34.992342",
     "exception": false,
     "start_time": "2023-11-09T02:28:33.876577",
     "status": "completed"
    },
    "tags": []
   },
   "outputs": [
    {
     "data": {
      "image/png": "[encoded data removed]",
      "text/plain": [
       "<Figure size 3000x3000 with 1 Axes>"
      ]
     },
     "metadata": {},
     "output_type": "display_data"
    }
   ],
   "source": [
    "import matplotlib.pyplot as plt\n",
    "plt.figure(figsize=(30,30))\n",
    "plt.imshow(train[0][0], cmap ='gray')\n",
    "plt.show()"
   ]
  },
  {
   "cell_type": "code",
   "execution_count": 9,
   "id": "3dd3af98",
   "metadata": {
    "execution": {
     "iopub.execute_input": "2023-11-09T02:28:35.010710Z",
     "iopub.status.busy": "2023-11-09T02:28:35.010406Z",
     "iopub.status.idle": "2023-11-09T02:28:35.067501Z",
     "shell.execute_reply": "2023-11-09T02:28:35.066486Z"
    },
    "papermill": {
     "duration": 0.069046,
     "end_time": "2023-11-09T02:28:35.069993",
     "exception": false,
     "start_time": "2023-11-09T02:28:35.000947",
     "status": "completed"
    },
    "tags": []
   },
   "outputs": [],
   "source": [
    "\n",
    "feature_set, labels = caer.sep_train(train, IMG_SIZE=IMG_SIZE)"
   ]
  },
  {
   "cell_type": "code",
   "execution_count": 10,
   "id": "9a3280cb",
   "metadata": {
    "execution": {
     "iopub.execute_input": "2023-11-09T02:28:35.088658Z",
     "iopub.status.busy": "2023-11-09T02:28:35.088342Z",
     "iopub.status.idle": "2023-11-09T02:28:35.208857Z",
     "shell.execute_reply": "2023-11-09T02:28:35.207859Z"
    },
    "papermill": {
     "duration": 0.132423,
     "end_time": "2023-11-09T02:28:35.211274",
     "exception": false,
     "start_time": "2023-11-09T02:28:35.078851",
     "status": "completed"
    },
    "tags": []
   },
   "outputs": [],
   "source": [
    "from tensorflow.keras.utils import to_categorical\n",
    "feature_set = caer.normalize(feature_set)\n",
    "labels=to_categorical(labels, len(characters))"
   ]
  },
  {
   "cell_type": "code",
   "execution_count": 11,
   "id": "9667b19e",
   "metadata": {
    "execution": {
     "iopub.execute_input": "2023-11-09T02:28:35.230527Z",
     "iopub.status.busy": "2023-11-09T02:28:35.230221Z",
     "iopub.status.idle": "2023-11-09T02:28:35.560954Z",
     "shell.execute_reply": "2023-11-09T02:28:35.559962Z"
    },
    "papermill": {
     "duration": 0.343375,
     "end_time": "2023-11-09T02:28:35.563686",
     "exception": false,
     "start_time": "2023-11-09T02:28:35.220311",
     "status": "completed"
    },
    "tags": []
   },
   "outputs": [],
   "source": [
    "x_train,x_val, y_train, y_val = caer.train_val_split(feature_set, labels, val_ratio=.2)\n"
   ]
  },
  {
   "cell_type": "code",
   "execution_count": 12,
   "id": "294944d1",
   "metadata": {
    "execution": {
     "iopub.execute_input": "2023-11-09T02:28:35.585260Z",
     "iopub.status.busy": "2023-11-09T02:28:35.584935Z",
     "iopub.status.idle": "2023-11-09T02:28:35.589239Z",
     "shell.execute_reply": "2023-11-09T02:28:35.588274Z"
    },
    "papermill": {
     "duration": 0.017554,
     "end_time": "2023-11-09T02:28:35.591412",
     "exception": false,
     "start_time": "2023-11-09T02:28:35.573858",
     "status": "completed"
    },
    "tags": []
   },
   "outputs": [],
   "source": [
    "# del train\n",
    "# del feature_set\n",
    "# del labels\n",
    "# gc.collect()"
   ]
  },
  {
   "cell_type": "code",
   "execution_count": 13,
   "id": "c85896c6",
   "metadata": {
    "execution": {
     "iopub.execute_input": "2023-11-09T02:28:35.612251Z",
     "iopub.status.busy": "2023-11-09T02:28:35.611945Z",
     "iopub.status.idle": "2023-11-09T02:28:35.616349Z",
     "shell.execute_reply": "2023-11-09T02:28:35.615381Z"
    },
    "papermill": {
     "duration": 0.017297,
     "end_time": "2023-11-09T02:28:35.618534",
     "exception": false,
     "start_time": "2023-11-09T02:28:35.601237",
     "status": "completed"
    },
    "tags": []
   },
   "outputs": [],
   "source": [
    "BATCH_SIZE = 32\n",
    "EPOCHS=10"
   ]
  },
  {
   "cell_type": "code",
   "execution_count": 14,
   "id": "e2ee061f",
   "metadata": {
    "execution": {
     "iopub.execute_input": "2023-11-09T02:28:35.639826Z",
     "iopub.status.busy": "2023-11-09T02:28:35.639463Z",
     "iopub.status.idle": "2023-11-09T02:28:35.644552Z",
     "shell.execute_reply": "2023-11-09T02:28:35.643545Z"
    },
    "papermill": {
     "duration": 0.018286,
     "end_time": "2023-11-09T02:28:35.646810",
     "exception": false,
     "start_time": "2023-11-09T02:28:35.628524",
     "status": "completed"
    },
    "tags": []
   },
   "outputs": [],
   "source": [
    "# Image data generator (introduces randomness in network ==> better accuracy)\n",
    "datagen = canaro.generators.imageDataGenerator()\n",
    "train_gen = datagen.flow(x_train, y_train, batch_size=BATCH_SIZE)\n"
   ]
  },
  {
   "cell_type": "code",
   "execution_count": null,
   "id": "9c6768c4",
   "metadata": {
    "execution": {
     "iopub.execute_input": "2023-11-09T02:24:14.459401Z",
     "iopub.status.busy": "2023-11-09T02:24:14.458599Z",
     "iopub.status.idle": "2023-11-09T02:24:14.464051Z",
     "shell.execute_reply": "2023-11-09T02:24:14.463106Z",
     "shell.execute_reply.started": "2023-11-09T02:24:14.459367Z"
    },
    "papermill": {
     "duration": 0.009491,
     "end_time": "2023-11-09T02:28:35.666158",
     "exception": false,
     "start_time": "2023-11-09T02:28:35.656667",
     "status": "completed"
    },
    "tags": []
   },
   "outputs": [],
   "source": []
  },
  {
   "cell_type": "code",
   "execution_count": null,
   "id": "04e83536",
   "metadata": {
    "papermill": {
     "duration": 0.008404,
     "end_time": "2023-11-09T02:28:35.683305",
     "exception": false,
     "start_time": "2023-11-09T02:28:35.674901",
     "status": "completed"
    },
    "tags": []
   },
   "outputs": [],
   "source": []
  }
 ],
 "metadata": {
  "kernelspec": {
   "display_name": "Python 3",
   "language": "python",
   "name": "python3"
  },
  "language_info": {
   "codemirror_mode": {
    "name": "ipython",
    "version": 3
   },
   "file_extension": ".py",
   "mimetype": "text/x-python",
   "name": "python",
   "nbconvert_exporter": "python",
   "pygments_lexer": "ipython3",
   "version": "3.10.12"
  },
  "papermill": {
   "default_parameters": {},
   "duration": 203.703906,
   "end_time": "2023-11-09T02:28:38.327258",
   "environment_variables": {},
   "exception": null,
   "input_path": "__notebook__.ipynb",
   "output_path": "__notebook__.ipynb",
   "parameters": {},
   "start_time": "2023-11-09T02:25:14.623352",
   "version": "2.4.0"
  }
 },
 "nbformat": 4,
 "nbformat_minor": 5
}
